{
  "nbformat": 4,
  "nbformat_minor": 0,
  "metadata": {
    "colab": {
      "name": "Web Scraping - Beautiful Soap",
      "provenance": [],
      "collapsed_sections": [],
      "authorship_tag": "ABX9TyO1JQ4Z+tmgyhGZAye1Eold",
      "include_colab_link": true
    },
    "kernelspec": {
      "name": "python3",
      "display_name": "Python 3"
    },
    "language_info": {
      "name": "python"
    }
  },
  "cells": [
    {
      "cell_type": "markdown",
      "metadata": {
        "id": "view-in-github",
        "colab_type": "text"
      },
      "source": [
        "<a href=\"https://colab.research.google.com/github/yowsitian/webScrapping1/blob/main/Web_Scraping_Beautiful_Soap.ipynb\" target=\"_parent\"><img src=\"https://colab.research.google.com/assets/colab-badge.svg\" alt=\"Open In Colab\"/></a>"
      ]
    },
    {
      "cell_type": "code",
      "metadata": {
        "id": "fuhptvkiJDou"
      },
      "source": [
        "#!pip install selenium"
      ],
      "execution_count": 3,
      "outputs": []
    },
    {
      "cell_type": "code",
      "metadata": {
        "id": "tfg0irkEp773"
      },
      "source": [
        "import requests\n",
        "from requests import get\n",
        "from bs4 import BeautifulSoup\n",
        "import pandas as pd\n",
        "import numpy as np\n",
        "# from selenium import webdriver\n",
        "import time\n",
        "import json\n",
        "\n",
        "companyList = [\n",
        "    {'id': 'citylink', 'link':'City-link%20Express', 'listLinks':[],'contents':''},\n",
        "    {'id': 'poslaju','link':'Pos%20Laju', 'listLinks':[],'contents':''},\n",
        "    {'id': 'gdex', 'link':'GDEX', 'listLinks':[],'contents':''},\n",
        "    {'id': 'jnt', 'link':'J%26T%20express', 'listLinks':[],'contents':''},\n",
        "    {'id': 'dhl', 'link':'DHL', 'listLinks':[],'contents':''},\n",
        "]\n",
        "\n",
        "urlList = [\n",
        "    {'id': 'theStar', 'link': 'https://www.thestar.com.my/search/?q='},\n",
        "    {'id': 'borneoPost','link': 'https://www.theborneopost.com/search_gcse/?q='},\n",
        "    {'id': 'newStraitsTimes', 'link': 'https://www.nst.com.my/search?keywords='},\n",
        "]"
      ],
      "execution_count": 4,
      "outputs": []
    },
    {
      "cell_type": "code",
      "metadata": {
        "id": "I1hPaFZoHTjg"
      },
      "source": [
        "def checkValidity(url):\n",
        "    r = requests.get(url)\n",
        "    if r.status_code == 200:\n",
        "        return r\n",
        "    return False"
      ],
      "execution_count": 5,
      "outputs": []
    },
    {
      "cell_type": "code",
      "metadata": {
        "id": "GnSRctYoqBkj"
      },
      "source": [
        "def retrieveArticleLinks(inputList):\n",
        "    for i in inputList:\n",
        "        index = 0\n",
        "        while len(i['listLinks'])  < 3 and index != len(urlList):\n",
        "            url = urlList[index]['link'] + i['link']\n",
        "            r = checkValidity(url)\n",
        "            if r:\n",
        "                contentNews = []\n",
        "                soup1 = BeautifulSoup(r.content, \"html.parser\")\n",
        "                # News identification\n",
        "                if urlList[index]['id'] == 'theStar':\n",
        "                    contentNews = soup1.find_all('h2', class_='f18')\n",
        "                elif urlList[index]['id'] == 'borneoPost':\n",
        "                    contentNews = soup1.find_all('div', class_='gs-title')\n",
        "                else:\n",
        "                    contentNews = soup1.find_all('div', class_='article-teaser')\n",
        "                for n in np.arange(0,len(contentNews)):\n",
        "                    if n == 3:\n",
        "                        break\n",
        "                    i['listLinks'].append(contentNews[n].find('a')['href'])\n",
        "                index += 1\n",
        "    return inputList"
      ],
      "execution_count": 6,
      "outputs": []
    },
    {
      "cell_type": "code",
      "metadata": {
        "colab": {
          "base_uri": "https://localhost:8080/"
        },
        "id": "lkKnpc16fy6Q",
        "outputId": "08861a93-96f6-4ef5-80cd-0530085feabb"
      },
      "source": [
        "print(retrieveArticleLinks(companyList))"
      ],
      "execution_count": 7,
      "outputs": [
        {
          "output_type": "stream",
          "text": [
            "[{'id': 'citylink', 'link': 'City-link%20Express', 'listLinks': ['https://www.thestar.com.my/business/business-news/2020/10/27/freeze-on-courier-licences-for-two-years', 'https://www.thestar.com.my/tech/tech-news/2020/10/26/mcmc-freezes-applications-for-new-courier-licenses-until-2022', 'https://www.thestar.com.my/metro/metro-news/2018/09/03/bargains-galore-for-eshoppers-fiveday-online-sale-beginning-today-offers-special-deals-on-products-b'], 'contents': ''}, {'id': 'poslaju', 'link': 'Pos%20Laju', 'listLinks': ['https://www.thestar.com.my/opinion/letters/2021/04/17/where-is-my-parcel-mr-postman', 'https://www.thestar.com.my/news/nation/2021/04/10/serve-your-two-years-reckless-biker-told', 'https://www.thestar.com.my/news/nation/2021/02/05/retiree-duped-out-of-nearly-rm1mil-in-macau-scam'], 'contents': ''}, {'id': 'gdex', 'link': 'GDEX', 'listLinks': ['https://www.thestar.com.my/business/business-news/2021/05/01/surge-in-demand-for-logistics-e-commerce', 'https://www.thestar.com.my/business/business-news/2021/04/13/gdex-ties-up-with-doc2us-alpro-for-medicine-delivery-tracking', 'https://www.thestar.com.my/business/business-news/2021/01/30/digitalisation-a-game-changer-for-gdex'], 'contents': ''}, {'id': 'jnt', 'link': 'J%26T%20express', 'listLinks': ['https://www.thestar.com.my/news/education/2019/06/30/murals-created-in-school', 'https://www.thestar.com.my/news/education/2019/06/30/more-time-to-teach', 'https://www.thestar.com.my/news/world/2019/06/29/sudan-military-issues-warning-to-opposition-over-planned-protest-rally'], 'contents': ''}, {'id': 'dhl', 'link': 'DHL', 'listLinks': ['https://www.thestar.com.my/tech/tech-news/2021/04/30/flubot-watch-out-for-this-data-stealing-spyware-thats-spreading-through-android-devices', 'https://www.thestar.com.my/tech/tech-news/2021/04/13/new-scam-targets-delivery-personnel-from-parcel-and-food-delivery-companies-in-singapore', 'https://www.thestar.com.my/business/business-news/2021/04/09/maskargo-eyes-higher-market-share'], 'contents': ''}]\n"
          ],
          "name": "stdout"
        }
      ]
    },
    {
      "cell_type": "code",
      "metadata": {
        "id": "4HxGxG2JbCZN"
      },
      "source": [
        "def scrapeSingleWeb(url):\n",
        "    r = checkValidity(url)\n",
        "    result = ''\n",
        "    if r:\n",
        "        article = BeautifulSoup(r.content, \"html.parser\")\n",
        "        arr = []\n",
        "        if \"www.thestar.com\" in url:\n",
        "          body = article.find('div',attrs={\"id\": \"story-body\"})   \n",
        "          arr = body.findAll('p')\n",
        "        for j in arr:\n",
        "            result += str(j.get_text())  \n",
        "    return result"
      ],
      "execution_count": 8,
      "outputs": []
    },
    {
      "cell_type": "code",
      "metadata": {
        "id": "rVpcqboYdo9I"
      },
      "source": [
        "companyList = retrieveArticleLinks(companyList)\n",
        "for i in companyList:\n",
        "    index = 0\n",
        "    #pass article link by link\n",
        "    while index < 3:\n",
        "        i['contents'] += str(scrapeSingleWeb(i['listLinks'][index]))\n",
        "        index += 1\n",
        "print(companyList)"
      ],
      "execution_count": null,
      "outputs": []
    },
    {
      "cell_type": "code",
      "metadata": {
        "id": "QGnoUz6hVa7N"
      },
      "source": [
        "df = pd.DataFrame.from_dict(companyList)\n",
        "from google.colab import  drive\n",
        "drive.mount('/drive')\n",
        "df.to_csv('/drive/My Drive/Year 2/name_csv_file.csv')"
      ],
      "execution_count": null,
      "outputs": []
    }
  ]
}